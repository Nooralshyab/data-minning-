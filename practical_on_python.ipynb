{
  "nbformat": 4,
  "nbformat_minor": 0,
  "metadata": {
    "colab": {
      "provenance": [],
      "authorship_tag": "ABX9TyPuyuF8+qUpIVObW6rW35AV",
      "include_colab_link": true
    },
    "kernelspec": {
      "name": "python3",
      "display_name": "Python 3"
    },
    "language_info": {
      "name": "python"
    }
  },
  "cells": [
    {
      "cell_type": "markdown",
      "metadata": {
        "id": "view-in-github",
        "colab_type": "text"
      },
      "source": [
        "<a href=\"https://colab.research.google.com/github/Nooralshyab/data-minning-/blob/main/practical_on_python.ipynb\" target=\"_parent\"><img src=\"https://colab.research.google.com/assets/colab-badge.svg\" alt=\"Open In Colab\"/></a>"
      ]
    },
    {
      "cell_type": "code",
      "source": [
        "a =10\n",
        "b =5\n",
        "\n",
        "Sum=a+b\n",
        "difference=a-b\n",
        "prouduct=a*b\n",
        "division=a/b\n",
        "\n",
        "print(\"Sum:\" ,sum)\n",
        "print(\"Difference:\" ,difference)\n",
        "print(\"Prouduct:\" ,prouduct)\n",
        "print(\"Division:\",  division)\n"
      ],
      "metadata": {
        "colab": {
          "base_uri": "https://localhost:8080/"
        },
        "id": "6hm0mZI-Aw0O",
        "outputId": "98f60d6d-2366-4f48-a222-6bdf1602c6c6"
      },
      "execution_count": 10,
      "outputs": [
        {
          "output_type": "stream",
          "name": "stdout",
          "text": [
            "Sum: <built-in function sum>\n",
            "Difference: 5\n",
            "Prouduct: 50\n",
            "Division: 2.0\n"
          ]
        }
      ]
    },
    {
      "cell_type": "code",
      "source": [
        "print(f\"The sum of the two numbers{a},{b}is{sum}\")"
      ],
      "metadata": {
        "colab": {
          "base_uri": "https://localhost:8080/"
        },
        "id": "AttyfHKhGmjE",
        "outputId": "4e969e35-af6a-4360-f104-db0623ee12c8"
      },
      "execution_count": 12,
      "outputs": [
        {
          "output_type": "stream",
          "name": "stdout",
          "text": [
            "The sum of the two numbers10,5is<built-in function sum>\n"
          ]
        }
      ]
    },
    {
      "cell_type": "code",
      "source": [
        "x=13/2\n",
        "print(x)\n",
        "y=13%2\n",
        "print(y)"
      ],
      "metadata": {
        "colab": {
          "base_uri": "https://localhost:8080/"
        },
        "id": "2zlFi4AgJTiv",
        "outputId": "5f224e41-e9e6-4daa-ef5b-6806f76434f2"
      },
      "execution_count": null,
      "outputs": [
        {
          "output_type": "stream",
          "name": "stdout",
          "text": [
            "6.5\n",
            "1\n"
          ]
        }
      ]
    },
    {
      "cell_type": "code",
      "source": [
        "#Boolean varibles andcomparisons\n",
        "x=10\n",
        "y=5\n",
        "\n",
        "is_greater=x>y\n",
        "is_equal=x==y\n",
        "is_not_equal =x!=y\n",
        "\n",
        "print(\"is x greater than y?\",is_greater)\n",
        "print(\"is x equaly?\",is_equal)\n",
        "print(\"is x not equalto y?\",is_not_equal)\n",
        "\n"
      ],
      "metadata": {
        "colab": {
          "base_uri": "https://localhost:8080/"
        },
        "id": "HvjfomviKVO-",
        "outputId": "55cbf665-0b83-46ee-dbfc-0fca2cb8cd6a"
      },
      "execution_count": null,
      "outputs": [
        {
          "output_type": "stream",
          "name": "stdout",
          "text": [
            "is x greater than y? True\n",
            "is x equaly? False\n",
            "is x not equalto y? True\n"
          ]
        }
      ]
    },
    {
      "cell_type": "code",
      "source": [
        "#varible assignment\n",
        "name=\"ALaa\"\n",
        "age=55\n",
        "is_professor=True\n",
        "\n",
        "print(f\"{name}is age is {age}.He is aprofessor is{is_professor} \")"
      ],
      "metadata": {
        "colab": {
          "base_uri": "https://localhost:8080/"
        },
        "id": "ODDDVN4HT7Dm",
        "outputId": "75f430a0-9224-4768-a070-fa84e98ea17b"
      },
      "execution_count": null,
      "outputs": [
        {
          "output_type": "stream",
          "name": "stdout",
          "text": [
            "ALaais age is 55.He is aprofessor isTrue \n"
          ]
        }
      ]
    },
    {
      "cell_type": "code",
      "source": [
        "#Difining and using a function\n",
        "def greet(name):\n",
        " \"Hello,\"+ name +\"!\"\n",
        "my_name=input(\"Enter your name:\")\n",
        "greet(\"my name\")"
      ],
      "metadata": {
        "colab": {
          "base_uri": "https://localhost:8080/"
        },
        "id": "eaFfdkgYVSs2",
        "outputId": "98b616ea-5d25-4eaf-d18f-e1ceb9201640"
      },
      "execution_count": 14,
      "outputs": [
        {
          "name": "stdout",
          "output_type": "stream",
          "text": [
            "Enter your name:Alaa\n"
          ]
        }
      ]
    },
    {
      "cell_type": "code",
      "source": [
        "def add_numbers(a,b):\n",
        "  return a+b\n",
        "  a =int(input(\"Enter first number:\"))\n",
        "  b =int(input(\"Eenter second number\"))\n",
        "\n",
        "  addition_value = add_numbers(a,b)\n",
        "  print(f\"The result of addition for {a},{b}is{addition_value}\")"
      ],
      "metadata": {
        "id": "f8Hp66hjNwxd"
      },
      "execution_count": 35,
      "outputs": []
    },
    {
      "cell_type": "code",
      "source": [
        "def add_numbers(a,b):\n",
        "  return a+b\n",
        "  a =eval(input(\"Enter first number:\"))\n",
        "  b =eval(input(\"Enter second number:\"))\n",
        "\n",
        "addition_value =add_numbers(a,b)\n",
        "print(f\"The result of addition for {a},{b}is{addition_value}\")"
      ],
      "metadata": {
        "id": "Z060i2J6ROsj",
        "outputId": "d650fcaf-20c3-4318-9199-979d52f661c7",
        "colab": {
          "base_uri": "https://localhost:8080/"
        }
      },
      "execution_count": 36,
      "outputs": [
        {
          "output_type": "stream",
          "name": "stdout",
          "text": [
            "The result of addition for 10,5is15\n"
          ]
        }
      ]
    },
    {
      "cell_type": "code",
      "source": [
        "#working with sitting\n",
        "message =\"Hello,world\"\n",
        "length =len(message)\n",
        "uppercase = message.upper()\n",
        "lowercase= message.lower()\n",
        "substing = message[7:12]\n",
        "\n",
        "print(\"Original message:\",message)\n",
        "print(\"The length is:\",length)\n",
        "print(\"Uppe case:\",uppercase)\n",
        "print(\"Lower case:\",lowercase)\n",
        "print(\"Part of the messageis:\",substing)\n",
        "\n"
      ],
      "metadata": {
        "id": "LcybshrUT_8C",
        "outputId": "a2ff2cd5-2053-4eb1-a6a2-3b346fc64422",
        "colab": {
          "base_uri": "https://localhost:8080/"
        }
      },
      "execution_count": 40,
      "outputs": [
        {
          "output_type": "stream",
          "name": "stdout",
          "text": [
            "Original message: Hello,world\n",
            "The length is: 11\n",
            "Uppe case: HELLO,WORLD\n",
            "Lower case: hello,world\n",
            "Part of the messageis: orld\n"
          ]
        }
      ]
    },
    {
      "cell_type": "code",
      "source": [
        "#Basic input example\n",
        "last =input(\"Enter the last name,last name:\")\n",
        "first =input(\"Enter the first name,first name:\")\n",
        "\n",
        "print(f\"{last},{first}\")\n",
        "\n",
        "\n"
      ],
      "metadata": {
        "id": "hX0fGel6auIf",
        "outputId": "0fb393a2-33ba-438a-e1f9-f8ee7aeae523",
        "colab": {
          "base_uri": "https://localhost:8080/"
        }
      },
      "execution_count": 41,
      "outputs": [
        {
          "output_type": "stream",
          "name": "stdout",
          "text": [
            "Enter the last name,last name:sheta alaa\n",
            "Enter the first name,first name:Alaa\n",
            "sheta alaa,Alaa\n"
          ]
        }
      ]
    },
    {
      "cell_type": "code",
      "source": [
        "#Numeric input example\n",
        "age =int(input(\"Enter your age:\"))\n",
        "print(\"You will be\",age + 1,\"years old next year.\")"
      ],
      "metadata": {
        "id": "0zXOEfBfdOp6",
        "outputId": "52d764b7-1f06-4a31-faba-37997dff6597",
        "colab": {
          "base_uri": "https://localhost:8080/"
        }
      },
      "execution_count": 42,
      "outputs": [
        {
          "output_type": "stream",
          "name": "stdout",
          "text": [
            "Enter your age:55\n",
            "You will be 56 years old next year.\n"
          ]
        }
      ]
    },
    {
      "cell_type": "code",
      "source": [
        "#calculation with input\n",
        "\n",
        "num1 =float(input(\"Enter a number:\"))\n",
        "num2 =float(input(\"Enter anumber:\"))\n",
        "sum_result=num1 +num2\n",
        "print(\"sum:\",sum_result)\n"
      ],
      "metadata": {
        "id": "pOvE9Lygeuoo",
        "outputId": "17cc2578-d6ba-4148-e045-a7094662c256",
        "colab": {
          "base_uri": "https://localhost:8080/"
        }
      },
      "execution_count": 43,
      "outputs": [
        {
          "output_type": "stream",
          "name": "stdout",
          "text": [
            "Enter a number:12\n",
            "Enter anumber:14\n",
            "sum: 26.0\n"
          ]
        }
      ]
    },
    {
      "cell_type": "code",
      "source": [
        "#string concatenation with input\n",
        "city =input(\"Enter your city:\")\n",
        "country =input(\"Enter your country\")\n",
        "location =city +\",\"+country\n",
        "print(\"you are in:\",location)"
      ],
      "metadata": {
        "id": "GGQwUA1ng0Lq",
        "outputId": "8170e12f-ffde-4e88-8888-19c513061c72",
        "colab": {
          "base_uri": "https://localhost:8080/"
        }
      },
      "execution_count": 44,
      "outputs": [
        {
          "output_type": "stream",
          "name": "stdout",
          "text": [
            "Enter your city:New haven\n",
            "Enter your countryUSA\n",
            "you are in: New haven,USA\n"
          ]
        }
      ]
    },
    {
      "cell_type": "code",
      "source": [
        "#Multiple inputs\n",
        "\n",
        "Name, age = input(\"Enter your name and age sperated by space:\")split()\n",
        "print(f\"my name is {name} and my age is {age}\")"
      ],
      "metadata": {
        "id": "czp7JDajiz6T",
        "outputId": "aa3b3eda-40d0-4a37-b505-4af96f07d7f2",
        "colab": {
          "base_uri": "https://localhost:8080/",
          "height": 110
        }
      },
      "execution_count": 54,
      "outputs": [
        {
          "output_type": "error",
          "ename": "SyntaxError",
          "evalue": "invalid syntax (<ipython-input-54-41823875f694>, line 3)",
          "traceback": [
            "\u001b[0;36m  File \u001b[0;32m\"<ipython-input-54-41823875f694>\"\u001b[0;36m, line \u001b[0;32m3\u001b[0m\n\u001b[0;31m    Name, age = input(\"Enter your name and age sperated by space:\")split()\u001b[0m\n\u001b[0m                                                                   ^\u001b[0m\n\u001b[0;31mSyntaxError\u001b[0m\u001b[0;31m:\u001b[0m invalid syntax\n"
          ]
        }
      ]
    }
  ]
}